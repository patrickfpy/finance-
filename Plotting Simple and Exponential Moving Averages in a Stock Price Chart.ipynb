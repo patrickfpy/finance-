{
 "cells": [
  {
   "cell_type": "markdown",
   "metadata": {},
   "source": [
    "# Plotting Simple and Expotential Moving Averages in a Stock Price Chart"
   ]
  },
  {
   "cell_type": "markdown",
   "metadata": {},
   "source": [
    "Import libraries"
   ]
  },
  {
   "cell_type": "code",
   "execution_count": 1,
   "metadata": {},
   "outputs": [],
   "source": [
    "import pandas as pd\n",
    "import numpy as np\n",
    "import yfinance as yf\n",
    "import datetime as dt\n",
    "import matplotlib.pyplot as plt\n",
    "import mplfinance as mpf\n",
    "from matplotlib import style\n",
    "from pandas_datareader import data as pdr"
   ]
  },
  {
   "cell_type": "markdown",
   "metadata": {},
   "source": [
    "Access the data from Yahoo! Finance "
   ]
  },
  {
   "cell_type": "code",
   "execution_count": 2,
   "metadata": {},
   "outputs": [],
   "source": [
    "yf.pdr_override() "
   ]
  },
  {
   "cell_type": "markdown",
   "metadata": {},
   "source": [
    "Ask the user to input a stock ticker and print it"
   ]
  },
  {
   "cell_type": "code",
   "execution_count": 3,
   "metadata": {},
   "outputs": [
    {
     "name": "stdout",
     "output_type": "stream",
     "text": [
      "Enter a stock ticker: AAPL\n",
      "AAPL\n"
     ]
    }
   ],
   "source": [
    "stock_ticker = input('Enter a stock ticker: ') \n",
    "print(stock_ticker)"
   ]
  },
  {
   "cell_type": "markdown",
   "metadata": {},
   "source": [
    "Ask the user to input a start date and print it"
   ]
  },
  {
   "cell_type": "code",
   "execution_count": 4,
   "metadata": {},
   "outputs": [
    {
     "name": "stdout",
     "output_type": "stream",
     "text": [
      "Enter a start date (dd mm yyyy): 01 10 2020\n"
     ]
    }
   ],
   "source": [
    "start_day, start_month, start_year = input('Enter a start date (dd mm yyyy): ').split()\n",
    "start_date = start_day + '/' + start_month + '/' + start_year\n",
    "start_time = dt.datetime(int(start_year), int(start_month), int(start_day))"
   ]
  },
  {
   "cell_type": "markdown",
   "metadata": {},
   "source": [
    "Ask the user to input an end date and print it"
   ]
  },
  {
   "cell_type": "code",
   "execution_count": 5,
   "metadata": {},
   "outputs": [
    {
     "name": "stdout",
     "output_type": "stream",
     "text": [
      "Enter an end date (dd mm yyyy): 11 11 2020\n"
     ]
    }
   ],
   "source": [
    "end_day, end_month, end_year = input('Enter an end date (dd mm yyyy): ').split()\n",
    "end_date = end_day + '/' + end_month + '/' + end_year\n",
    "end_time = dt.datetime(int(end_year), int(end_month), int(end_day))"
   ]
  },
  {
   "cell_type": "markdown",
   "metadata": {},
   "source": [
    "Print the start date and end date"
   ]
  },
  {
   "cell_type": "code",
   "execution_count": 6,
   "metadata": {},
   "outputs": [
    {
     "name": "stdout",
     "output_type": "stream",
     "text": [
      "From 01/10/2020 to 11/11/2020\n"
     ]
    }
   ],
   "source": [
    "print('From ' + start_date + ' to ' + end_date)"
   ]
  },
  {
   "cell_type": "markdown",
   "metadata": {},
   "source": [
    "Ask the user to input simple moving average(s) and print them"
   ]
  },
  {
   "cell_type": "code",
   "execution_count": 7,
   "metadata": {},
   "outputs": [
    {
     "name": "stdout",
     "output_type": "stream",
     "text": [
      "Enter simple moving average(s) (in days, limited to 7): 3 4\n",
      "[3, 4]\n"
     ]
    }
   ],
   "source": [
    "list_of_sma = [sma for sma in map(int, input('Enter simple moving average(s) (in days, limited to 7): ').split())]\n",
    "print(list_of_sma)"
   ]
  },
  {
   "cell_type": "markdown",
   "metadata": {},
   "source": [
    "Ask the user to input expotential moving average(s) and print them"
   ]
  },
  {
   "cell_type": "code",
   "execution_count": 8,
   "metadata": {},
   "outputs": [
    {
     "name": "stdout",
     "output_type": "stream",
     "text": [
      "Enter expotential moving average(s) (in days, limited to 7): 3\n",
      "[3]\n"
     ]
    }
   ],
   "source": [
    "list_of_ema = [ema for ema in map(int, input('Enter expotential moving average(s) (in days, limited to 7): ').split())]\n",
    "print(list_of_ema)"
   ]
  },
  {
   "cell_type": "markdown",
   "metadata": {},
   "source": [
    "Load the dataframe from Yahoo! Finance and print it "
   ]
  },
  {
   "cell_type": "code",
   "execution_count": 9,
   "metadata": {},
   "outputs": [
    {
     "name": "stdout",
     "output_type": "stream",
     "text": [
      "[*********************100%***********************]  1 of 1 completed\n",
      "                  Open        High         Low       Close   Adj Close  \\\n",
      "Date                                                                     \n",
      "2020-10-01  117.639999  117.720001  115.830002  116.790001  116.588860   \n",
      "2020-10-02  112.889999  115.370003  112.220001  113.019997  112.825348   \n",
      "2020-10-05  113.910004  116.650002  113.550003  116.500000  116.299355   \n",
      "2020-10-06  115.699997  116.120003  112.250000  113.160004  112.965111   \n",
      "2020-10-07  114.620003  115.550003  114.129997  115.080002  114.881805   \n",
      "2020-10-08  116.250000  116.400002  114.589996  114.970001  114.771988   \n",
      "2020-10-09  115.279999  117.000000  114.919998  116.970001  116.768547   \n",
      "2020-10-12  120.059998  125.180000  119.279999  124.400002  124.185753   \n",
      "2020-10-13  125.269997  125.389999  119.650002  121.099998  120.891434   \n",
      "2020-10-14  121.000000  123.029999  119.620003  121.190002  120.981277   \n",
      "2020-10-15  118.720001  121.199997  118.150002  120.709999  120.502106   \n",
      "2020-10-16  121.279999  121.550003  118.809998  119.019997  118.815010   \n",
      "2020-10-19  119.959999  120.419998  115.660004  115.980003  115.780251   \n",
      "2020-10-20  116.199997  118.980003  115.629997  117.510002  117.307617   \n",
      "2020-10-21  116.669998  118.709999  116.449997  116.870003  116.668724   \n",
      "2020-10-22  117.449997  118.040001  114.589996  115.750000  115.550644   \n",
      "2020-10-23  116.389999  116.550003  114.279999  115.040001  114.841873   \n",
      "2020-10-26  114.010002  116.550003  112.879997  115.050003  114.851852   \n",
      "2020-10-27  115.489998  117.279999  114.540001  116.599998  116.399178   \n",
      "2020-10-28  115.050003  115.430000  111.099998  111.199997  111.008476   \n",
      "2020-10-29  112.370003  116.930000  112.199997  115.320000  115.121384   \n",
      "2020-10-30  111.059998  111.989998  107.720001  108.860001  108.672516   \n",
      "2020-11-02  109.110001  110.680000  107.320000  108.769997  108.582664   \n",
      "2020-11-03  109.660004  111.489998  108.730003  110.440002  110.249794   \n",
      "2020-11-04  114.139999  115.589996  112.349998  114.949997  114.752022   \n",
      "2020-11-05  117.949997  119.620003  116.870003  119.029999  118.824997   \n",
      "2020-11-06  118.320000  119.199997  116.129997  118.690002  118.690002   \n",
      "2020-11-09  120.500000  121.989998  116.050003  116.320000  116.320000   \n",
      "2020-11-10  115.550003  117.589996  114.129997  115.970001  115.970001   \n",
      "\n",
      "               Volume  \n",
      "Date                   \n",
      "2020-10-01  116120400  \n",
      "2020-10-02  144712000  \n",
      "2020-10-05  106243800  \n",
      "2020-10-06  161498200  \n",
      "2020-10-07   96849000  \n",
      "2020-10-08   83477200  \n",
      "2020-10-09  100506900  \n",
      "2020-10-12  240226800  \n",
      "2020-10-13  262330500  \n",
      "2020-10-14  151062300  \n",
      "2020-10-15  112559200  \n",
      "2020-10-16  115393800  \n",
      "2020-10-19  120639300  \n",
      "2020-10-20  124423700  \n",
      "2020-10-21   89946000  \n",
      "2020-10-22  101988000  \n",
      "2020-10-23   82572600  \n",
      "2020-10-26  111850700  \n",
      "2020-10-27   92276800  \n",
      "2020-10-28  143937800  \n",
      "2020-10-29  146129200  \n",
      "2020-10-30  190272600  \n",
      "2020-11-02  122866900  \n",
      "2020-11-03  107624400  \n",
      "2020-11-04  138235500  \n",
      "2020-11-05  126387100  \n",
      "2020-11-06  114457900  \n",
      "2020-11-09  154515300  \n",
      "2020-11-10  138023400  \n"
     ]
    }
   ],
   "source": [
    "df = pdr.get_data_yahoo(stock_ticker, start_time, end_time) \n",
    "print(df)"
   ]
  },
  {
   "cell_type": "markdown",
   "metadata": {},
   "source": [
    "Save the dataframe as csv and load it into a dataframe"
   ]
  },
  {
   "cell_type": "code",
   "execution_count": 10,
   "metadata": {},
   "outputs": [],
   "source": [
    "df.to_csv(stock_ticker + '.csv') \n",
    "df = pd.read_csv(stock_ticker + '.csv', parse_dates=True, index_col=0)"
   ]
  },
  {
   "cell_type": "markdown",
   "metadata": {},
   "source": [
    "Calculate the simple moving average(s), append them to dataframe and print it "
   ]
  },
  {
   "cell_type": "code",
   "execution_count": 11,
   "metadata": {},
   "outputs": [
    {
     "name": "stdout",
     "output_type": "stream",
     "text": [
      "                  Open        High         Low       Close   Adj Close  \\\n",
      "Date                                                                     \n",
      "2020-10-01  117.639999  117.720001  115.830002  116.790001  116.588860   \n",
      "2020-10-02  112.889999  115.370003  112.220001  113.019997  112.825348   \n",
      "2020-10-05  113.910004  116.650002  113.550003  116.500000  116.299355   \n",
      "2020-10-06  115.699997  116.120003  112.250000  113.160004  112.965111   \n",
      "2020-10-07  114.620003  115.550003  114.129997  115.080002  114.881805   \n",
      "2020-10-08  116.250000  116.400002  114.589996  114.970001  114.771988   \n",
      "2020-10-09  115.279999  117.000000  114.919998  116.970001  116.768547   \n",
      "2020-10-12  120.059998  125.180000  119.279999  124.400002  124.185753   \n",
      "2020-10-13  125.269997  125.389999  119.650002  121.099998  120.891434   \n",
      "2020-10-14  121.000000  123.029999  119.620003  121.190002  120.981277   \n",
      "2020-10-15  118.720001  121.199997  118.150002  120.709999  120.502106   \n",
      "2020-10-16  121.279999  121.550003  118.809998  119.019997  118.815010   \n",
      "2020-10-19  119.959999  120.419998  115.660004  115.980003  115.780251   \n",
      "2020-10-20  116.199997  118.980003  115.629997  117.510002  117.307617   \n",
      "2020-10-21  116.669998  118.709999  116.449997  116.870003  116.668724   \n",
      "2020-10-22  117.449997  118.040001  114.589996  115.750000  115.550644   \n",
      "2020-10-23  116.389999  116.550003  114.279999  115.040001  114.841873   \n",
      "2020-10-26  114.010002  116.550003  112.879997  115.050003  114.851852   \n",
      "2020-10-27  115.489998  117.279999  114.540001  116.599998  116.399178   \n",
      "2020-10-28  115.050003  115.430000  111.099998  111.199997  111.008476   \n",
      "2020-10-29  112.370003  116.930000  112.199997  115.320000  115.121384   \n",
      "2020-10-30  111.059998  111.989998  107.720001  108.860001  108.672516   \n",
      "2020-11-02  109.110001  110.680000  107.320000  108.769997  108.582664   \n",
      "2020-11-03  109.660004  111.489998  108.730003  110.440002  110.249794   \n",
      "2020-11-04  114.139999  115.589996  112.349998  114.949997  114.752022   \n",
      "2020-11-05  117.949997  119.620003  116.870003  119.029999  118.824997   \n",
      "2020-11-06  118.320000  119.199997  116.129997  118.690002  118.690002   \n",
      "2020-11-09  120.500000  121.989998  116.050003  116.320000  116.320000   \n",
      "2020-11-10  115.550003  117.589996  114.129997  115.970001  115.970001   \n",
      "\n",
      "               Volume  3-day simple moving average  \\\n",
      "Date                                                 \n",
      "2020-10-01  116120400                          NaN   \n",
      "2020-10-02  144712000                          NaN   \n",
      "2020-10-05  106243800                   115.237854   \n",
      "2020-10-06  161498200                   114.029938   \n",
      "2020-10-07   96849000                   114.715424   \n",
      "2020-10-08   83477200                   114.206301   \n",
      "2020-10-09  100506900                   115.474113   \n",
      "2020-10-12  240226800                   118.575429   \n",
      "2020-10-13  262330500                   120.615245   \n",
      "2020-10-14  151062300                   122.019488   \n",
      "2020-10-15  112559200                   120.791606   \n",
      "2020-10-16  115393800                   120.099464   \n",
      "2020-10-19  120639300                   118.365789   \n",
      "2020-10-20  124423700                   117.300959   \n",
      "2020-10-21   89946000                   116.585531   \n",
      "2020-10-22  101988000                   116.508995   \n",
      "2020-10-23   82572600                   115.687080   \n",
      "2020-10-26  111850700                   115.081457   \n",
      "2020-10-27   92276800                   115.364301   \n",
      "2020-10-28  143937800                   114.086502   \n",
      "2020-10-29  146129200                   114.176346   \n",
      "2020-10-30  190272600                   111.600792   \n",
      "2020-11-02  122866900                   110.792188   \n",
      "2020-11-03  107624400                   109.168325   \n",
      "2020-11-04  138235500                   111.194827   \n",
      "2020-11-05  126387100                   114.608938   \n",
      "2020-11-06  114457900                   117.422340   \n",
      "2020-11-09  154515300                   117.945000   \n",
      "2020-11-10  138023400                   116.993334   \n",
      "\n",
      "            4-day simple moving average  \n",
      "Date                                     \n",
      "2020-10-01                          NaN  \n",
      "2020-10-02                          NaN  \n",
      "2020-10-05                          NaN  \n",
      "2020-10-06                   114.669668  \n",
      "2020-10-07                   114.242905  \n",
      "2020-10-08                   114.729565  \n",
      "2020-10-09                   114.846863  \n",
      "2020-10-12                   117.652023  \n",
      "2020-10-13                   119.154430  \n",
      "2020-10-14                   120.706753  \n",
      "2020-10-15                   121.640142  \n",
      "2020-10-16                   120.297457  \n",
      "2020-10-19                   119.019661  \n",
      "2020-10-20                   118.101246  \n",
      "2020-10-21                   117.142900  \n",
      "2020-10-22                   116.326809  \n",
      "2020-10-23                   116.092215  \n",
      "2020-10-26                   115.478273  \n",
      "2020-10-27                   115.410887  \n",
      "2020-10-28                   114.275345  \n",
      "2020-10-29                   114.345222  \n",
      "2020-10-30                   112.800388  \n",
      "2020-11-02                   110.846260  \n",
      "2020-11-03                   110.656590  \n",
      "2020-11-04                   110.564249  \n",
      "2020-11-05                   113.102369  \n",
      "2020-11-06                   115.629204  \n",
      "2020-11-09                   117.146755  \n",
      "2020-11-10                   117.451250  \n"
     ]
    }
   ],
   "source": [
    "sma_column_name = []\n",
    "\n",
    "for day in list_of_sma:\n",
    "    sma = int(day)\n",
    "    df[str(sma) + \"-day simple moving average\"] = df['Adj Close'].rolling(window=sma).mean()\n",
    "    sma_column_name.append(str(sma) + \"-day simple moving average\")\n",
    "\n",
    "print(df)"
   ]
  },
  {
   "cell_type": "markdown",
   "metadata": {},
   "source": [
    "Calculate the expotential moving average(s), append them to the dataframe and print it "
   ]
  },
  {
   "cell_type": "code",
   "execution_count": 12,
   "metadata": {},
   "outputs": [
    {
     "name": "stdout",
     "output_type": "stream",
     "text": [
      "                  Open        High         Low       Close   Adj Close  \\\n",
      "Date                                                                     \n",
      "2020-10-01  117.639999  117.720001  115.830002  116.790001  116.588860   \n",
      "2020-10-02  112.889999  115.370003  112.220001  113.019997  112.825348   \n",
      "2020-10-05  113.910004  116.650002  113.550003  116.500000  116.299355   \n",
      "2020-10-06  115.699997  116.120003  112.250000  113.160004  112.965111   \n",
      "2020-10-07  114.620003  115.550003  114.129997  115.080002  114.881805   \n",
      "2020-10-08  116.250000  116.400002  114.589996  114.970001  114.771988   \n",
      "2020-10-09  115.279999  117.000000  114.919998  116.970001  116.768547   \n",
      "2020-10-12  120.059998  125.180000  119.279999  124.400002  124.185753   \n",
      "2020-10-13  125.269997  125.389999  119.650002  121.099998  120.891434   \n",
      "2020-10-14  121.000000  123.029999  119.620003  121.190002  120.981277   \n",
      "2020-10-15  118.720001  121.199997  118.150002  120.709999  120.502106   \n",
      "2020-10-16  121.279999  121.550003  118.809998  119.019997  118.815010   \n",
      "2020-10-19  119.959999  120.419998  115.660004  115.980003  115.780251   \n",
      "2020-10-20  116.199997  118.980003  115.629997  117.510002  117.307617   \n",
      "2020-10-21  116.669998  118.709999  116.449997  116.870003  116.668724   \n",
      "2020-10-22  117.449997  118.040001  114.589996  115.750000  115.550644   \n",
      "2020-10-23  116.389999  116.550003  114.279999  115.040001  114.841873   \n",
      "2020-10-26  114.010002  116.550003  112.879997  115.050003  114.851852   \n",
      "2020-10-27  115.489998  117.279999  114.540001  116.599998  116.399178   \n",
      "2020-10-28  115.050003  115.430000  111.099998  111.199997  111.008476   \n",
      "2020-10-29  112.370003  116.930000  112.199997  115.320000  115.121384   \n",
      "2020-10-30  111.059998  111.989998  107.720001  108.860001  108.672516   \n",
      "2020-11-02  109.110001  110.680000  107.320000  108.769997  108.582664   \n",
      "2020-11-03  109.660004  111.489998  108.730003  110.440002  110.249794   \n",
      "2020-11-04  114.139999  115.589996  112.349998  114.949997  114.752022   \n",
      "2020-11-05  117.949997  119.620003  116.870003  119.029999  118.824997   \n",
      "2020-11-06  118.320000  119.199997  116.129997  118.690002  118.690002   \n",
      "2020-11-09  120.500000  121.989998  116.050003  116.320000  116.320000   \n",
      "2020-11-10  115.550003  117.589996  114.129997  115.970001  115.970001   \n",
      "\n",
      "               Volume  3-day simple moving average  \\\n",
      "Date                                                 \n",
      "2020-10-01  116120400                          NaN   \n",
      "2020-10-02  144712000                          NaN   \n",
      "2020-10-05  106243800                   115.237854   \n",
      "2020-10-06  161498200                   114.029938   \n",
      "2020-10-07   96849000                   114.715424   \n",
      "2020-10-08   83477200                   114.206301   \n",
      "2020-10-09  100506900                   115.474113   \n",
      "2020-10-12  240226800                   118.575429   \n",
      "2020-10-13  262330500                   120.615245   \n",
      "2020-10-14  151062300                   122.019488   \n",
      "2020-10-15  112559200                   120.791606   \n",
      "2020-10-16  115393800                   120.099464   \n",
      "2020-10-19  120639300                   118.365789   \n",
      "2020-10-20  124423700                   117.300959   \n",
      "2020-10-21   89946000                   116.585531   \n",
      "2020-10-22  101988000                   116.508995   \n",
      "2020-10-23   82572600                   115.687080   \n",
      "2020-10-26  111850700                   115.081457   \n",
      "2020-10-27   92276800                   115.364301   \n",
      "2020-10-28  143937800                   114.086502   \n",
      "2020-10-29  146129200                   114.176346   \n",
      "2020-10-30  190272600                   111.600792   \n",
      "2020-11-02  122866900                   110.792188   \n",
      "2020-11-03  107624400                   109.168325   \n",
      "2020-11-04  138235500                   111.194827   \n",
      "2020-11-05  126387100                   114.608938   \n",
      "2020-11-06  114457900                   117.422340   \n",
      "2020-11-09  154515300                   117.945000   \n",
      "2020-11-10  138023400                   116.993334   \n",
      "\n",
      "            4-day simple moving average  3-day expotential moving average  \n",
      "Date                                                                       \n",
      "2020-10-01                          NaN                        116.588860  \n",
      "2020-10-02                          NaN                        114.707104  \n",
      "2020-10-05                          NaN                        115.503229  \n",
      "2020-10-06                   114.669668                        114.234170  \n",
      "2020-10-07                   114.242905                        114.557988  \n",
      "2020-10-08                   114.729565                        114.664988  \n",
      "2020-10-09                   114.846863                        115.716767  \n",
      "2020-10-12                   117.652023                        119.951260  \n",
      "2020-10-13                   119.154430                        120.421347  \n",
      "2020-10-14                   120.706753                        120.701312  \n",
      "2020-10-15                   121.640142                        120.601709  \n",
      "2020-10-16                   120.297457                        119.708360  \n",
      "2020-10-19                   119.019661                        117.744305  \n",
      "2020-10-20                   118.101246                        117.525961  \n",
      "2020-10-21                   117.142900                        117.097343  \n",
      "2020-10-22                   116.326809                        116.323993  \n",
      "2020-10-23                   116.092215                        115.582933  \n",
      "2020-10-26                   115.478273                        115.217393  \n",
      "2020-10-27                   115.410887                        115.808285  \n",
      "2020-10-28                   114.275345                        113.408381  \n",
      "2020-10-29                   114.345222                        114.264882  \n",
      "2020-10-30                   112.800388                        111.468699  \n",
      "2020-11-02                   110.846260                        110.025682  \n",
      "2020-11-03                   110.656590                        110.137738  \n",
      "2020-11-04                   110.564249                        112.444880  \n",
      "2020-11-05                   113.102369                        115.634938  \n",
      "2020-11-06                   115.629204                        117.162470  \n",
      "2020-11-09                   117.146755                        116.741235  \n",
      "2020-11-10                   117.451250                        116.355618  \n"
     ]
    }
   ],
   "source": [
    "ema_column_name = []\n",
    "\n",
    "for day in list_of_ema:\n",
    "    ema = int(day)\n",
    "    df[str(ema) + \"-day expotential moving average\"] = df['Adj Close'].ewm(span=ema, adjust=False).mean()\n",
    "    ema_column_name.append(str(ema) + \"-day expotential moving average\")\n",
    "print(df)"
   ]
  },
  {
   "cell_type": "markdown",
   "metadata": {},
   "source": [
    "Export the dataframe to CSV "
   ]
  },
  {
   "cell_type": "code",
   "execution_count": 13,
   "metadata": {},
   "outputs": [],
   "source": [
    "df.to_csv(stock_ticker + '.csv')"
   ]
  },
  {
   "cell_type": "markdown",
   "metadata": {},
   "source": [
    "Set the key arguments for the main graph"
   ]
  },
  {
   "cell_type": "code",
   "execution_count": 14,
   "metadata": {},
   "outputs": [],
   "source": [
    "kwargs = dict(type='candle', returnfig=True, volume=True, show_nontrading = True, ylabel='OHLC Candles', ylabel_lower='Shares Traded')"
   ]
  },
  {
   "cell_type": "markdown",
   "metadata": {},
   "source": [
    "Plot the graph"
   ]
  },
  {
   "cell_type": "code",
   "execution_count": 15,
   "metadata": {},
   "outputs": [
    {
     "data": {
      "image/png": "[encoded data removed]",
      "text/plain": [
       "<Figure size 800x575 with 4 Axes>"
      ]
     },
     "metadata": {},
     "output_type": "display_data"
    }
   ],
   "source": [
    "ema_columns = [column for column in df.columns if \"-day expotential moving average\" in column]\n",
    "df_ema = df[ema_columns]\n",
    "ema_plot = mpf.make_addplot(df_ema)\n",
    "fig, axis = mpf.plot(df, mav=list_of_sma, addplot=ema_plot, **kwargs)\n",
    "axis[0].set_title(stock_ticker + '  ' + start_date + ' ~ ' + end_date, fontsize=20, fontweight=\"bold\")\n",
    "axis[0].legend(sma_column_name + ema_column_name)\n",
    "mpf.show()"
   ]
  }
 ],
 "metadata": {
  "kernelspec": {
   "display_name": "Python 3",
   "language": "python",
   "name": "python3"
  },
  "language_info": {
   "codemirror_mode": {
    "name": "ipython",
    "version": 3
   },
   "file_extension": ".py",
   "mimetype": "text/x-python",
   "name": "python",
   "nbconvert_exporter": "python",
   "pygments_lexer": "ipython3",
   "version": "3.7.6"
  }
 },
 "nbformat": 4,
 "nbformat_minor": 4
}
